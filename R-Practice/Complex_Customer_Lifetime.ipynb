{
  "nbformat": 4,
  "nbformat_minor": 0,
  "metadata": {
    "colab": {
      "provenance": [],
      "authorship_tag": "ABX9TyP7zDR8mjXhk631NtsDvcYn",
      "include_colab_link": true
    },
    "kernelspec": {
      "name": "ir",
      "display_name": "R"
    },
    "language_info": {
      "name": "R"
    }
  },
  "cells": [
    {
      "cell_type": "markdown",
      "metadata": {
        "id": "view-in-github",
        "colab_type": "text"
      },
      "source": [
        "<a href=\"https://colab.research.google.com/github/techie-mayank/Data-Analytics/blob/main/R-Practice/Complex_Customer_Lifetime.ipynb\" target=\"_parent\"><img src=\"https://colab.research.google.com/assets/colab-badge.svg\" alt=\"Open In Colab\"/></a>"
      ]
    },
    {
      "cell_type": "code",
      "execution_count": 1,
      "metadata": {
        "colab": {
          "base_uri": "https://localhost:8080/"
        },
        "id": "HMtzaBQ7ldEI",
        "outputId": "a86257c8-4462-40a8-a759-6011f45b94ed"
      },
      "outputs": [
        {
          "output_type": "stream",
          "name": "stderr",
          "text": [
            "Installing packages into ‘/usr/local/lib/R/site-library’\n",
            "(as ‘lib’ is unspecified)\n",
            "\n"
          ]
        }
      ],
      "source": [
        "install.packages(c(\"ggplot2\", \"dplyr\"))"
      ]
    },
    {
      "cell_type": "code",
      "source": [
        "# Load necessary libraries\n",
        "library(ggplot2)\n",
        "library(dplyr)\n",
        "\n",
        "# Load the dataset\n",
        "data <- read.csv(\"complex_customer_lifetime.csv\")\n",
        "\n",
        "# Convert dates to Date type\n",
        "data$First_Purchase_Date <- as.Date(data$First_Purchase_Date, format='%Y-%m-%d')\n",
        "data$Last_Purchase_Date <- as.Date(data$Last_Purchase_Date, format='%Y-%m-%d')\n",
        "\n",
        "# Plot 1: Distribution of Customer Lifetime Value (CLV) (Total_Spent)\n",
        "histogram_clv <- ggplot(data, aes(x=Total_Spent)) +\n",
        "  geom_histogram(binwidth=500, fill='steelblue', color='black') +\n",
        "  labs(title=\"Distribution of Customer Lifetime Value (CLV)\", x=\"Total Spent\", y=\"Count\")\n",
        "\n",
        "# Plot 2: Customer Retention over Time (Tenure)\n",
        "histogram_tenure <- ggplot(data, aes(x=Tenure)) +\n",
        "  geom_histogram(binwidth=10, fill='darkgreen', color='black') +\n",
        "  labs(title=\"Customer Retention (Tenure Distribution)\", x=\"Tenure (Months)\", y=\"Count\")\n",
        "\n",
        "# Plot 3: CLV vs. Age and Customer Segment\n",
        "boxplot_clv_age <- ggplot(data, aes(x=as.factor(Customer_Age), y=Total_Spent)) +\n",
        "  geom_boxplot(fill='lightblue') +\n",
        "  labs(title=\"Customer Lifetime Value by Age\", x=\"Customer Age\", y=\"Total Spent\") +\n",
        "  theme(axis.text.x = element_text(angle=90, hjust=1))\n",
        "\n",
        "boxplot_clv_segment <- ggplot(data, aes(x=Customer_Segment, y=Total_Spent, fill=Customer_Segment)) +\n",
        "  geom_boxplot() +\n",
        "  labs(title=\"Customer Lifetime Value by Segment\", x=\"Customer Segment\", y=\"Total Spent\") +\n",
        "  theme(legend.position=\"none\")\n",
        "\n",
        "# Plot 4: Trends in Repeat Purchases\n",
        "scatter_purchases <- ggplot(data, aes(x=First_Purchase_Date, y=Total_Purchases)) +\n",
        "  geom_point(color='red', alpha=0.6) +\n",
        "  geom_smooth(method='lm', se=FALSE, color='blue') +\n",
        "  labs(title=\"Trends in Repeat Purchases\", x=\"First Purchase Date\", y=\"Total Purchases\")\n",
        "\n",
        "# Plot 5: High-Value vs. Low-Value Customers\n",
        "boxplot_high_low <- ggplot(data, aes(x=Customer_Segment, y=Total_Spent, fill=Customer_Segment)) +\n",
        "  geom_boxplot() +\n",
        "  labs(title=\"Comparison of High-Value vs Low-Value Customers\", x=\"Customer Segment\", y=\"Total Spent\") +\n",
        "  theme(legend.position=\"none\")\n",
        "\n",
        "# Save plots\n",
        "ggsave(\"histogram_clv.png\", histogram_clv)\n",
        "ggsave(\"histogram_tenure.png\", histogram_tenure)\n",
        "ggsave(\"boxplot_clv_age.png\", boxplot_clv_age)\n",
        "ggsave(\"boxplot_clv_segment.png\", boxplot_clv_segment)\n",
        "ggsave(\"scatter_purchases.png\", scatter_purchases)\n",
        "ggsave(\"boxplot_high_low.png\", boxplot_high_low)"
      ],
      "metadata": {
        "colab": {
          "base_uri": "https://localhost:8080/"
        },
        "id": "3GBQiYfoocuW",
        "outputId": "8dc62983-04cc-4814-aa16-8169cb82466b"
      },
      "execution_count": 3,
      "outputs": [
        {
          "output_type": "stream",
          "name": "stderr",
          "text": [
            "\u001b[1m\u001b[22mSaving 7 x 7 in image\n",
            "\u001b[1m\u001b[22mSaving 7 x 7 in image\n",
            "\u001b[1m\u001b[22mSaving 7 x 7 in image\n",
            "\u001b[1m\u001b[22mSaving 7 x 7 in image\n",
            "\u001b[1m\u001b[22mSaving 7 x 7 in image\n",
            "\u001b[1m\u001b[22m`geom_smooth()` using formula = 'y ~ x'\n",
            "\u001b[1m\u001b[22mSaving 7 x 7 in image\n"
          ]
        }
      ]
    }
  ]
}